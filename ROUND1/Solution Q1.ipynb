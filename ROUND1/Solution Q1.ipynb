{
 "cells": [
  {
   "cell_type": "code",
   "execution_count": 1,
   "id": "e4b420e3",
   "metadata": {},
   "outputs": [],
   "source": [
    "import numpy as np"
   ]
  },
  {
   "cell_type": "markdown",
   "id": "e135c86a",
   "metadata": {},
   "source": [
    "## Testing Markov Model by converting costs to normalised Probability"
   ]
  },
  {
   "cell_type": "code",
   "execution_count": 2,
   "id": "0e22ebf0",
   "metadata": {},
   "outputs": [],
   "source": [
    "data = np.array([[1,0.5,1.45,0.75],[1.95,1,3.1,1.49],[0.67,0.31,1,0.48],[1.34,0.64,1.98,1]])"
   ]
  },
  {
   "cell_type": "code",
   "execution_count": 3,
   "id": "dd413498",
   "metadata": {},
   "outputs": [
    {
     "data": {
      "text/plain": [
       "array([[1.  , 0.5 , 1.45, 0.75],\n",
       "       [1.95, 1.  , 3.1 , 1.49],\n",
       "       [0.67, 0.31, 1.  , 0.48],\n",
       "       [1.34, 0.64, 1.98, 1.  ]])"
      ]
     },
     "execution_count": 3,
     "metadata": {},
     "output_type": "execute_result"
    }
   ],
   "source": [
    "data"
   ]
  },
  {
   "cell_type": "code",
   "execution_count": 4,
   "id": "82905ffb",
   "metadata": {},
   "outputs": [],
   "source": [
    "from sklearn.preprocessing import normalize"
   ]
  },
  {
   "cell_type": "code",
   "execution_count": 5,
   "id": "378c118b",
   "metadata": {},
   "outputs": [],
   "source": [
    "data1=normalize(data,norm='l1',axis=0)"
   ]
  },
  {
   "cell_type": "code",
   "execution_count": 6,
   "id": "0bc4086d",
   "metadata": {},
   "outputs": [
    {
     "data": {
      "text/plain": [
       "array([[0.2016129 , 0.20408163, 0.19256308, 0.2016129 ],\n",
       "       [0.39314516, 0.40816327, 0.41168659, 0.40053763],\n",
       "       [0.13508065, 0.12653061, 0.13280212, 0.12903226],\n",
       "       [0.27016129, 0.26122449, 0.26294821, 0.2688172 ]])"
      ]
     },
     "execution_count": 6,
     "metadata": {},
     "output_type": "execute_result"
    }
   ],
   "source": [
    "data1"
   ]
  },
  {
   "cell_type": "code",
   "execution_count": 7,
   "id": "c1837e6a",
   "metadata": {},
   "outputs": [],
   "source": [
    "initial=np.array([0,0,0,1])"
   ]
  },
  {
   "cell_type": "code",
   "execution_count": 8,
   "id": "48a6ccf5",
   "metadata": {},
   "outputs": [
    {
     "data": {
      "text/plain": [
       "array([0.27016129, 0.26122449, 0.26294821, 0.2688172 ])"
      ]
     },
     "execution_count": 8,
     "metadata": {},
     "output_type": "execute_result"
    }
   ],
   "source": [
    "t1=np.dot(initial,data1)\n",
    "np.dot(initial,data1)"
   ]
  },
  {
   "cell_type": "code",
   "execution_count": 9,
   "id": "1aa067cd",
   "metadata": {},
   "outputs": [
    {
     "data": {
      "text/plain": [
       "array([0.26531036, 0.26524983, 0.26517079, 0.26528973])"
      ]
     },
     "execution_count": 9,
     "metadata": {},
     "output_type": "execute_result"
    }
   ],
   "source": [
    "t2=np.dot(t1,data1)\n",
    "np.dot(t1,data1)"
   ]
  },
  {
   "cell_type": "code",
   "execution_count": 10,
   "id": "33a2505f",
   "metadata": {},
   "outputs": [
    {
     "data": {
      "text/plain": [
       "array([0.26526214, 0.26526261, 0.26526148, 0.26526256])"
      ]
     },
     "execution_count": 10,
     "metadata": {},
     "output_type": "execute_result"
    }
   ],
   "source": [
    "t3=np.dot(t2,data1)\n",
    "np.dot(t2,data1)"
   ]
  },
  {
   "cell_type": "code",
   "execution_count": 11,
   "id": "df144744",
   "metadata": {},
   "outputs": [
    {
     "data": {
      "text/plain": [
       "array([0.26526235, 0.26526236, 0.26526236, 0.26526236])"
      ]
     },
     "execution_count": 11,
     "metadata": {},
     "output_type": "execute_result"
    }
   ],
   "source": [
    "t4=np.dot(t3,data1)\n",
    "np.dot(t3,data1)\n",
    "#Results were not as good as below coded logic."
   ]
  },
  {
   "cell_type": "markdown",
   "id": "f83b0f95",
   "metadata": {},
   "source": [
    "## Accepted Logic on States."
   ]
  },
  {
   "cell_type": "code",
   "execution_count": 12,
   "id": "32dc8b9b",
   "metadata": {},
   "outputs": [
    {
     "name": "stdout",
     "output_type": "stream",
     "text": [
      "(1.0436925000000001, 0, 1, 2, 0, 3)\n"
     ]
    }
   ],
   "source": [
    "#Accepted Logic\n",
    "trades = [[1, 0.5, 1.45, 0.75],\n",
    "          [1.95, 1, 3.1, 1.49],\n",
    "          [0.67, 0.31, 1, 0.48],\n",
    "          [1.34, 0.64, 1.98, 1]\n",
    "          ]\n",
    "\n",
    "num_trades = 5\n",
    "curr_prod = 3\n",
    "possible_trades = set()\n",
    "def get_best_trade(curr_prod, past_trades):\n",
    "\n",
    "    if len(past_trades) == num_trades:\n",
    "        past_trades[0] *= trades[curr_prod][3]\n",
    "        past_trades.append(3)\n",
    "        #print(past_trades)\n",
    "        possible_trades.add(tuple(past_trades))\n",
    "        return\n",
    "\n",
    "    for trade_prod, value in enumerate(trades[curr_prod]):\n",
    "        #print(trade_prod,value)\n",
    "        past_trades[0] *= value\n",
    "        get_best_trade(trade_prod, past_trades + [trade_prod])\n",
    "        past_trades[0] /= value\n",
    "\n",
    "\n",
    "if __name__==\"__main__\":\n",
    "    get_best_trade(curr_prod, [1])\n",
    "    best_trade = max(possible_trades, key=lambda x: x[0])\n",
    "    print(best_trade)\n",
    "\n"
   ]
  },
  {
   "cell_type": "markdown",
   "id": "f82edcdc",
   "metadata": {},
   "source": [
    "##### Achieved 1.04% additional profit on cash at the end.\n",
    "##### Problem demands to fix initial and final state as Pearl (here currency) with maximum trade 5."
   ]
  },
  {
   "cell_type": "code",
   "execution_count": null,
   "id": "d6ee43cb",
   "metadata": {},
   "outputs": [],
   "source": []
  }
 ],
 "metadata": {
  "kernelspec": {
   "display_name": "Python 3 (ipykernel)",
   "language": "python",
   "name": "python3"
  },
  "language_info": {
   "codemirror_mode": {
    "name": "ipython",
    "version": 3
   },
   "file_extension": ".py",
   "mimetype": "text/x-python",
   "name": "python",
   "nbconvert_exporter": "python",
   "pygments_lexer": "ipython3",
   "version": "3.9.7"
  }
 },
 "nbformat": 4,
 "nbformat_minor": 5
}
